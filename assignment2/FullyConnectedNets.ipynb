{
 "cells": [
  {
   "cell_type": "markdown",
   "metadata": {},
   "source": [
    "# Fully-Connected Neural Nets\n",
    "In the previous homework you implemented a fully-connected two-layer neural network on CIFAR-10. The implementation was simple but not very modular since the loss and gradient were computed in a single monolithic function. This is manageable for a simple two-layer network, but would become impractical as we move to bigger models. Ideally we want to build networks using a more modular design so that we can implement different layer types in isolation and then snap them together into models with different architectures.\n",
    "\n",
    "In this exercise we will implement fully-connected networks using a more modular approach. For each layer we will implement a `forward` and a `backward` function. The `forward` function will receive inputs, weights, and other parameters and will return both an output and a `cache` object storing data needed for the backward pass, like this:\n",
    "\n",
    "```python\n",
    "def layer_forward(x, w):\n",
    "  \"\"\" Receive inputs x and weights w \"\"\"\n",
    "  # Do some computations ...\n",
    "  z = # ... some intermediate value\n",
    "  # Do some more computations ...\n",
    "  out = # the output\n",
    "   \n",
    "  cache = (x, w, z, out) # Values we need to compute gradients\n",
    "   \n",
    "  return out, cache\n",
    "```\n",
    "\n",
    "The backward pass will receive upstream derivatives and the `cache` object, and will return gradients with respect to the inputs and weights, like this:\n",
    "\n",
    "```python\n",
    "def layer_backward(dout, cache):\n",
    "  \"\"\"\n",
    "  Receive derivative of loss with respect to outputs and cache,\n",
    "  and compute derivative with respect to inputs.\n",
    "  \"\"\"\n",
    "  # Unpack cache values\n",
    "  x, w, z, out = cache\n",
    "  \n",
    "  # Use values in cache to compute derivatives\n",
    "  dx = # Derivative of loss with respect to x\n",
    "  dw = # Derivative of loss with respect to w\n",
    "  \n",
    "  return dx, dw\n",
    "```\n",
    "\n",
    "After implementing a bunch of layers this way, we will be able to easily combine them to build classifiers with different architectures.\n",
    "\n",
    "In addition to implementing fully-connected networks of arbitrary depth, we will also explore different update rules for optimization, and introduce Dropout as a regularizer and Batch Normalization as a tool to more efficiently optimize deep networks.\n",
    "  "
   ]
  },
  {
   "cell_type": "code",
   "execution_count": 2,
   "metadata": {
    "collapsed": false
   },
   "outputs": [],
   "source": [
    "# As usual, a bit of setup\n",
    "\n",
    "import time\n",
    "import numpy as np\n",
    "import matplotlib.pyplot as plt\n",
    "from cs231n.classifiers.fc_net import *\n",
    "from cs231n.data_utils import get_CIFAR10_data\n",
    "from cs231n.gradient_check import eval_numerical_gradient, eval_numerical_gradient_array\n",
    "from cs231n.solver import Solver\n",
    "\n",
    "%matplotlib inline\n",
    "plt.rcParams['figure.figsize'] = (10.0, 8.0) # set default size of plots\n",
    "plt.rcParams['image.interpolation'] = 'nearest'\n",
    "plt.rcParams['image.cmap'] = 'gray'\n",
    "\n",
    "# for auto-reloading external modules\n",
    "# see http://stackoverflow.com/questions/1907993/autoreload-of-modules-in-ipython\n",
    "%load_ext autoreload\n",
    "%autoreload 2\n",
    "\n",
    "def rel_error(x, y):\n",
    "  \"\"\" returns relative error \"\"\"\n",
    "  return np.max(np.abs(x - y) / (np.maximum(1e-8, np.abs(x) + np.abs(y))))"
   ]
  },
  {
   "cell_type": "code",
   "execution_count": 3,
   "metadata": {
    "collapsed": false
   },
   "outputs": [
    {
     "name": "stdout",
     "output_type": "stream",
     "text": [
      "X_val:  (1000L, 3L, 32L, 32L)\n",
      "X_train:  (49000L, 3L, 32L, 32L)\n",
      "X_test:  (1000L, 3L, 32L, 32L)\n",
      "y_val:  (1000L,)\n",
      "y_train:  (49000L,)\n",
      "y_test:  (1000L,)\n"
     ]
    }
   ],
   "source": [
    "# Load the (preprocessed) CIFAR10 data.\n",
    "\n",
    "data = get_CIFAR10_data()\n",
    "for k, v in data.iteritems():\n",
    "    print '%s: ' % k, v.shape"
   ]
  },
  {
   "cell_type": "markdown",
   "metadata": {},
   "source": [
    "# Affine layer: foward\n",
    "Open the file `cs231n/layers.py` and implement the `affine_forward` function.\n",
    "\n",
    "Once you are done you can test your implementaion by running the following:"
   ]
  },
  {
   "cell_type": "code",
   "execution_count": 4,
   "metadata": {
    "collapsed": false
   },
   "outputs": [
    {
     "name": "stdout",
     "output_type": "stream",
     "text": [
      "Testing affine_forward function:\n",
      "difference:  9.76984772881e-10\n"
     ]
    }
   ],
   "source": [
    "# Test the affine_forward function\n",
    "\n",
    "num_inputs = 2\n",
    "input_shape = (4, 5, 6)\n",
    "output_dim = 3\n",
    "\n",
    "input_size = num_inputs * np.prod(input_shape)\n",
    "weight_size = output_dim * np.prod(input_shape)\n",
    "\n",
    "x = np.linspace(-0.1, 0.5, num=input_size).reshape(num_inputs, *input_shape)\n",
    "w = np.linspace(-0.2, 0.3, num=weight_size).reshape(np.prod(input_shape), output_dim)\n",
    "b = np.linspace(-0.3, 0.1, num=output_dim)\n",
    "\n",
    "out, _ = affine_forward(x, w, b)\n",
    "correct_out = np.array([[ 1.49834967,  1.70660132,  1.91485297],\n",
    "                        [ 3.25553199,  3.5141327,   3.77273342]])\n",
    "\n",
    "# Compare your output with ours. The error should be around 1e-9.\n",
    "print 'Testing affine_forward function:'\n",
    "print 'difference: ', rel_error(out, correct_out)"
   ]
  },
  {
   "cell_type": "markdown",
   "metadata": {},
   "source": [
    "# Affine layer: backward\n",
    "Now implement the `affine_backward` function and test your implementation using numeric gradient checking."
   ]
  },
  {
   "cell_type": "code",
   "execution_count": 5,
   "metadata": {
    "collapsed": false
   },
   "outputs": [
    {
     "name": "stdout",
     "output_type": "stream",
     "text": [
      "Testing affine_backward function:\n",
      "dx error:  1.94032810512e-10\n",
      "dw error:  3.82447686442e-11\n",
      "db error:  2.17116134916e-11\n"
     ]
    }
   ],
   "source": [
    "# Test the affine_backward function\n",
    "\n",
    "x = np.random.randn(10, 2, 3)\n",
    "w = np.random.randn(6, 5)\n",
    "b = np.random.randn(5)\n",
    "dout = np.random.randn(10, 5)\n",
    "\n",
    "dx_num = eval_numerical_gradient_array(lambda x: affine_forward(x, w, b)[0], x, dout)\n",
    "dw_num = eval_numerical_gradient_array(lambda w: affine_forward(x, w, b)[0], w, dout)\n",
    "db_num = eval_numerical_gradient_array(lambda b: affine_forward(x, w, b)[0], b, dout)\n",
    "\n",
    "_, cache = affine_forward(x, w, b)\n",
    "dx, dw, db = affine_backward(dout, cache)\n",
    "\n",
    "# The error should be around 1e-10\n",
    "print 'Testing affine_backward function:'\n",
    "print 'dx error: ', rel_error(dx_num, dx)\n",
    "print 'dw error: ', rel_error(dw_num, dw)\n",
    "print 'db error: ', rel_error(db_num, db)"
   ]
  },
  {
   "cell_type": "markdown",
   "metadata": {},
   "source": [
    "# ReLU layer: forward\n",
    "Implement the forward pass for the ReLU activation function in the `relu_forward` function and test your implementation using the following:"
   ]
  },
  {
   "cell_type": "code",
   "execution_count": 6,
   "metadata": {
    "collapsed": false
   },
   "outputs": [
    {
     "name": "stdout",
     "output_type": "stream",
     "text": [
      "Testing relu_forward function:\n",
      "difference:  4.99999979802e-08\n"
     ]
    }
   ],
   "source": [
    "# Test the relu_forward function\n",
    "\n",
    "x = np.linspace(-0.5, 0.5, num=12).reshape(3, 4)\n",
    "\n",
    "out, _ = relu_forward(x)\n",
    "correct_out = np.array([[ 0.,          0.,          0.,          0.,        ],\n",
    "                        [ 0.,          0.,          0.04545455,  0.13636364,],\n",
    "                        [ 0.22727273,  0.31818182,  0.40909091,  0.5,       ]])\n",
    "\n",
    "# Compare your output with ours. The error should be around 1e-8\n",
    "print 'Testing relu_forward function:'\n",
    "print 'difference: ', rel_error(out, correct_out)"
   ]
  },
  {
   "cell_type": "markdown",
   "metadata": {},
   "source": [
    "# ReLU layer: backward\n",
    "Now implement the backward pass for the ReLU activation function in the `relu_backward` function and test your implementation using numeric gradient checking:"
   ]
  },
  {
   "cell_type": "code",
   "execution_count": 7,
   "metadata": {
    "collapsed": false
   },
   "outputs": [
    {
     "name": "stdout",
     "output_type": "stream",
     "text": [
      "Testing relu_backward function:\n",
      "dx error:  3.27563626881e-12\n"
     ]
    }
   ],
   "source": [
    "x = np.random.randn(10, 10)\n",
    "dout = np.random.randn(*x.shape)\n",
    "\n",
    "dx_num = eval_numerical_gradient_array(lambda x: relu_forward(x)[0], x, dout)\n",
    "\n",
    "_, cache = relu_forward(x)\n",
    "dx = relu_backward(dout, cache)\n",
    "\n",
    "# The error should be around 1e-12\n",
    "print 'Testing relu_backward function:'\n",
    "print 'dx error: ', rel_error(dx_num, dx)"
   ]
  },
  {
   "cell_type": "markdown",
   "metadata": {},
   "source": [
    "# \"Sandwich\" layers\n",
    "There are some common patterns of layers that are frequently used in neural nets. For example, affine layers are frequently followed by a ReLU nonlinearity. To make these common patterns easy, we define several convenience layers in the file `cs231n/layer_utils.py`.\n",
    "\n",
    "For now take a look at the `affine_relu_forward` and `affine_relu_backward` functions, and run the following to numerically gradient check the backward pass:"
   ]
  },
  {
   "cell_type": "code",
   "execution_count": 8,
   "metadata": {
    "collapsed": false
   },
   "outputs": [
    {
     "name": "stdout",
     "output_type": "stream",
     "text": [
      "Testing affine_relu_forward:\n",
      "dx error:  7.11428346134e-10\n",
      "dw error:  9.24223388082e-10\n",
      "db error:  7.55547177385e-11\n"
     ]
    }
   ],
   "source": [
    "from cs231n.layer_utils import affine_relu_forward, affine_relu_backward\n",
    "\n",
    "x = np.random.randn(2, 3, 4)\n",
    "w = np.random.randn(12, 10)\n",
    "b = np.random.randn(10)\n",
    "dout = np.random.randn(2, 10)\n",
    "\n",
    "out, cache = affine_relu_forward(x, w, b)\n",
    "dx, dw, db = affine_relu_backward(dout, cache)\n",
    "\n",
    "dx_num = eval_numerical_gradient_array(lambda x: affine_relu_forward(x, w, b)[0], x, dout)\n",
    "dw_num = eval_numerical_gradient_array(lambda w: affine_relu_forward(x, w, b)[0], w, dout)\n",
    "db_num = eval_numerical_gradient_array(lambda b: affine_relu_forward(x, w, b)[0], b, dout)\n",
    "\n",
    "print 'Testing affine_relu_forward:'\n",
    "print 'dx error: ', rel_error(dx_num, dx)\n",
    "print 'dw error: ', rel_error(dw_num, dw)\n",
    "print 'db error: ', rel_error(db_num, db)"
   ]
  },
  {
   "cell_type": "markdown",
   "metadata": {},
   "source": [
    "# Loss layers: Softmax and SVM\n",
    "You implemented these loss functions in the last assignment, so we'll give them to you for free here. You should still make sure you understand how they work by looking at the implementations in `cs231n/layers.py`.\n",
    "\n",
    "You can make sure that the implementations are correct by running the following:"
   ]
  },
  {
   "cell_type": "code",
   "execution_count": 9,
   "metadata": {
    "collapsed": false
   },
   "outputs": [
    {
     "name": "stdout",
     "output_type": "stream",
     "text": [
      "Testing svm_loss:\n",
      "loss:  8.99989673479\n",
      "dx error:  8.18289447289e-10\n",
      "\n",
      "Testing softmax_loss:\n",
      "loss:  2.30257521294\n",
      "dx error:  8.20622860227e-09\n"
     ]
    }
   ],
   "source": [
    "num_classes, num_inputs = 10, 50\n",
    "x = 0.001 * np.random.randn(num_inputs, num_classes)\n",
    "y = np.random.randint(num_classes, size=num_inputs)\n",
    "\n",
    "dx_num = eval_numerical_gradient(lambda x: svm_loss(x, y)[0], x, verbose=False)\n",
    "loss, dx = svm_loss(x, y)\n",
    "\n",
    "# Test svm_loss function. Loss should be around 9 and dx error should be 1e-9\n",
    "print 'Testing svm_loss:'\n",
    "print 'loss: ', loss\n",
    "print 'dx error: ', rel_error(dx_num, dx)\n",
    "\n",
    "dx_num = eval_numerical_gradient(lambda x: softmax_loss(x, y)[0], x, verbose=False)\n",
    "loss, dx = softmax_loss(x, y)\n",
    "\n",
    "# Test softmax_loss function. Loss should be 2.3 and dx error should be 1e-8\n",
    "print '\\nTesting softmax_loss:'\n",
    "print 'loss: ', loss\n",
    "print 'dx error: ', rel_error(dx_num, dx)"
   ]
  },
  {
   "cell_type": "markdown",
   "metadata": {},
   "source": [
    "# Two-layer network\n",
    "In the previous assignment you implemented a two-layer neural network in a single monolithic class. Now that you have implemented modular versions of the necessary layers, you will reimplement the two layer network using these modular implementations.\n",
    "\n",
    "Open the file `cs231n/classifiers/fc_net.py` and complete the implementation of the `TwoLayerNet` class. This class will serve as a model for the other networks you will implement in this assignment, so read through it to make sure you understand the API. You can run the cell below to test your implementation."
   ]
  },
  {
   "cell_type": "code",
   "execution_count": 10,
   "metadata": {
    "collapsed": false
   },
   "outputs": [
    {
     "data": {
      "text/plain": [
       "array([[ -7.94802597,  17.23886018],\n",
       "       [ -5.12422189,   7.90963962]])"
      ]
     },
     "execution_count": 10,
     "metadata": {},
     "output_type": "execute_result"
    }
   ],
   "source": [
    "np.random.normal(0,10,[2,2])"
   ]
  },
  {
   "cell_type": "code",
   "execution_count": 11,
   "metadata": {
    "collapsed": false
   },
   "outputs": [
    {
     "name": "stdout",
     "output_type": "stream",
     "text": [
      "Testing initialization ... \n",
      "Testing test-time forward pass ... \n",
      "Testing training loss (no regularization)\n",
      "Running numeric gradient check with reg =  0.0\n",
      "W1 relative error: 1.22e-08\n",
      "W2 relative error: 3.48e-10\n",
      "b1 relative error: 6.55e-09\n",
      "b2 relative error: 4.33e-10\n",
      "Running numeric gradient check with reg =  0.7\n",
      "W1 relative error: 8.18e-07\n",
      "W2 relative error: 2.85e-08\n",
      "b1 relative error: 1.09e-09\n",
      "b2 relative error: 9.09e-10\n"
     ]
    }
   ],
   "source": [
    "N, D, H, C = 3, 5, 50, 7\n",
    "X = np.random.randn(N, D)\n",
    "y = np.random.randint(C, size=N)\n",
    "\n",
    "std = 1e-2\n",
    "model = TwoLayerNet(input_dim=D, hidden_dim=H, num_classes=C, weight_scale=std)\n",
    "\n",
    "print 'Testing initialization ... '\n",
    "W1_std = abs(model.params['W1'].std() - std)\n",
    "b1 = model.params['b1']\n",
    "W2_std = abs(model.params['W2'].std() - std)\n",
    "b2 = model.params['b2']\n",
    "assert W1_std < std / 10, 'First layer weights do not seem right'\n",
    "assert np.all(b1 == 0), 'First layer biases do not seem right'\n",
    "assert W2_std < std / 10, 'Second layer weights do not seem right'\n",
    "assert np.all(b2 == 0), 'Second layer biases do not seem right'\n",
    "\n",
    "print 'Testing test-time forward pass ... '\n",
    "model.params['W1'] = np.linspace(-0.7, 0.3, num=D*H).reshape(D, H)\n",
    "model.params['b1'] = np.linspace(-0.1, 0.9, num=H)\n",
    "model.params['W2'] = np.linspace(-0.3, 0.4, num=H*C).reshape(H, C)\n",
    "model.params['b2'] = np.linspace(-0.9, 0.1, num=C)\n",
    "X = np.linspace(-5.5, 4.5, num=N*D).reshape(D, N).T\n",
    "scores = model.loss(X)\n",
    "correct_scores = np.asarray(\n",
    "  [[11.53165108,  12.2917344,   13.05181771,  13.81190102,  14.57198434, 15.33206765,  16.09215096],\n",
    "   [12.05769098,  12.74614105,  13.43459113,  14.1230412,   14.81149128, 15.49994135,  16.18839143],\n",
    "   [12.58373087,  13.20054771,  13.81736455,  14.43418138,  15.05099822, 15.66781506,  16.2846319 ]])\n",
    "scores_diff = np.abs(scores - correct_scores).sum()\n",
    "assert scores_diff < 1e-6, 'Problem with test-time forward pass'\n",
    "\n",
    "print 'Testing training loss (no regularization)'\n",
    "y = np.asarray([0, 5, 1])\n",
    "loss, grads = model.loss(X, y)\n",
    "correct_loss = 3.4702243556\n",
    "assert abs(loss - correct_loss) < 1e-10, 'Problem with training-time loss'\n",
    "\n",
    "model.reg = 1.0\n",
    "loss, grads = model.loss(X, y)\n",
    "correct_loss = 26.5948426952\n",
    "assert abs(loss - correct_loss) < 1e-10, 'Problem with regularization loss'\n",
    "\n",
    "for reg in [0.0, 0.7]:\n",
    "  print 'Running numeric gradient check with reg = ', reg\n",
    "  model.reg = reg\n",
    "  loss, grads = model.loss(X, y)\n",
    "\n",
    "  for name in sorted(grads):\n",
    "    f = lambda _: model.loss(X, y)[0]\n",
    "    grad_num = eval_numerical_gradient(f, model.params[name], verbose=False)\n",
    "    print '%s relative error: %.2e' % (name, rel_error(grad_num, grads[name]))"
   ]
  },
  {
   "cell_type": "markdown",
   "metadata": {},
   "source": [
    "# Solver\n",
    "In the previous assignment, the logic for training models was coupled to the models themselves. Following a more modular design, for this assignment we have split the logic for training models into a separate class.\n",
    "\n",
    "Open the file `cs231n/solver.py` and read through it to familiarize yourself with the API. After doing so, use a `Solver` instance to train a `TwoLayerNet` that achieves at least `50%` accuracy on the validation set."
   ]
  },
  {
   "cell_type": "code",
   "execution_count": 12,
   "metadata": {
    "collapsed": false
   },
   "outputs": [
    {
     "data": {
      "text/plain": [
       "0.01"
      ]
     },
     "execution_count": 12,
     "metadata": {},
     "output_type": "execute_result"
    }
   ],
   "source": [
    "std"
   ]
  },
  {
   "cell_type": "code",
   "execution_count": 90,
   "metadata": {
    "collapsed": false
   },
   "outputs": [
    {
     "name": "stdout",
     "output_type": "stream",
     "text": [
      "(Iteration 1 / 12250) loss: 72.678026\n",
      "(Epoch 0 / 50) train acc: 0.160000; val_acc: 0.142000\n",
      "(Iteration 101 / 12250) loss: 49.634041\n",
      "(Iteration 201 / 12250) loss: 45.044185\n",
      "(Epoch 1 / 50) train acc: 0.265000; val_acc: 0.258000\n",
      "(Iteration 301 / 12250) loss: 41.698647\n",
      "(Iteration 401 / 12250) loss: 38.170110\n",
      "(Epoch 2 / 50) train acc: 0.393000; val_acc: 0.367000\n",
      "(Iteration 501 / 12250) loss: 35.277871\n",
      "(Iteration 601 / 12250) loss: 33.157799\n",
      "(Iteration 701 / 12250) loss: 30.757248\n",
      "(Epoch 3 / 50) train acc: 0.383000; val_acc: 0.383000\n",
      "(Iteration 801 / 12250) loss: 28.503885\n",
      "(Iteration 901 / 12250) loss: 27.051223\n",
      "(Epoch 4 / 50) train acc: 0.349000; val_acc: 0.390000\n",
      "(Iteration 1001 / 12250) loss: 25.081216\n",
      "(Iteration 1101 / 12250) loss: 23.676061\n",
      "(Iteration 1201 / 12250) loss: 22.437230\n",
      "(Epoch 5 / 50) train acc: 0.429000; val_acc: 0.426000\n",
      "(Iteration 1301 / 12250) loss: 20.918700\n",
      "(Iteration 1401 / 12250) loss: 19.879576\n",
      "(Epoch 6 / 50) train acc: 0.458000; val_acc: 0.444000\n",
      "(Iteration 1501 / 12250) loss: 18.631975\n",
      "(Iteration 1601 / 12250) loss: 17.615859\n",
      "(Iteration 1701 / 12250) loss: 16.723941\n",
      "(Epoch 7 / 50) train acc: 0.424000; val_acc: 0.438000\n",
      "(Iteration 1801 / 12250) loss: 15.877053\n",
      "(Iteration 1901 / 12250) loss: 15.014340\n",
      "(Epoch 8 / 50) train acc: 0.483000; val_acc: 0.433000\n",
      "(Iteration 2001 / 12250) loss: 14.340912\n",
      "(Iteration 2101 / 12250) loss: 13.782742\n",
      "(Iteration 2201 / 12250) loss: 13.121343\n",
      "(Epoch 9 / 50) train acc: 0.506000; val_acc: 0.464000\n",
      "(Iteration 2301 / 12250) loss: 12.550245\n",
      "(Iteration 2401 / 12250) loss: 11.876827\n",
      "(Epoch 10 / 50) train acc: 0.455000; val_acc: 0.460000\n",
      "(Iteration 2501 / 12250) loss: 11.422260\n",
      "(Iteration 2601 / 12250) loss: 11.114331\n",
      "(Epoch 11 / 50) train acc: 0.483000; val_acc: 0.467000\n",
      "(Iteration 2701 / 12250) loss: 10.541428\n",
      "(Iteration 2801 / 12250) loss: 10.054306\n",
      "(Iteration 2901 / 12250) loss: 9.740470\n",
      "(Epoch 12 / 50) train acc: 0.485000; val_acc: 0.474000\n",
      "(Iteration 3001 / 12250) loss: 9.291720\n",
      "(Iteration 3101 / 12250) loss: 8.973624\n",
      "(Epoch 13 / 50) train acc: 0.500000; val_acc: 0.482000\n",
      "(Iteration 3201 / 12250) loss: 8.707837\n",
      "(Iteration 3301 / 12250) loss: 8.395025\n",
      "(Iteration 3401 / 12250) loss: 8.107597\n",
      "(Epoch 14 / 50) train acc: 0.533000; val_acc: 0.489000\n",
      "(Iteration 3501 / 12250) loss: 7.815893\n",
      "(Iteration 3601 / 12250) loss: 7.612284\n",
      "(Epoch 15 / 50) train acc: 0.534000; val_acc: 0.491000\n",
      "(Iteration 3701 / 12250) loss: 7.315282\n",
      "(Iteration 3801 / 12250) loss: 7.031501\n",
      "(Iteration 3901 / 12250) loss: 6.946034\n",
      "(Epoch 16 / 50) train acc: 0.527000; val_acc: 0.493000\n",
      "(Iteration 4001 / 12250) loss: 6.758990\n",
      "(Iteration 4101 / 12250) loss: 6.466164\n",
      "(Epoch 17 / 50) train acc: 0.542000; val_acc: 0.480000\n",
      "(Iteration 4201 / 12250) loss: 6.433453\n",
      "(Iteration 4301 / 12250) loss: 6.163117\n",
      "(Iteration 4401 / 12250) loss: 5.993245\n",
      "(Epoch 18 / 50) train acc: 0.515000; val_acc: 0.489000\n",
      "(Iteration 4501 / 12250) loss: 5.837848\n",
      "(Iteration 4601 / 12250) loss: 5.680023\n",
      "(Epoch 19 / 50) train acc: 0.563000; val_acc: 0.504000\n",
      "(Iteration 4701 / 12250) loss: 5.521622\n",
      "(Iteration 4801 / 12250) loss: 5.533317\n",
      "(Epoch 20 / 50) train acc: 0.528000; val_acc: 0.494000\n",
      "(Iteration 4901 / 12250) loss: 5.313180\n",
      "(Iteration 5001 / 12250) loss: 5.212794\n",
      "(Iteration 5101 / 12250) loss: 5.121433\n",
      "(Epoch 21 / 50) train acc: 0.526000; val_acc: 0.494000\n",
      "(Iteration 5201 / 12250) loss: 5.070446\n",
      "(Iteration 5301 / 12250) loss: 4.906315\n",
      "(Epoch 22 / 50) train acc: 0.551000; val_acc: 0.505000\n",
      "(Iteration 5401 / 12250) loss: 4.823780\n",
      "(Iteration 5501 / 12250) loss: 4.701168\n",
      "(Iteration 5601 / 12250) loss: 4.546606\n",
      "(Epoch 23 / 50) train acc: 0.546000; val_acc: 0.512000\n",
      "(Iteration 5701 / 12250) loss: 4.592608\n",
      "(Iteration 5801 / 12250) loss: 4.441349\n",
      "(Epoch 24 / 50) train acc: 0.577000; val_acc: 0.509000\n",
      "(Iteration 5901 / 12250) loss: 4.489223\n",
      "(Iteration 6001 / 12250) loss: 4.329298\n",
      "(Iteration 6101 / 12250) loss: 4.353245\n",
      "(Epoch 25 / 50) train acc: 0.564000; val_acc: 0.506000\n",
      "(Iteration 6201 / 12250) loss: 4.241323\n",
      "(Iteration 6301 / 12250) loss: 4.097690\n",
      "(Epoch 26 / 50) train acc: 0.555000; val_acc: 0.511000\n",
      "(Iteration 6401 / 12250) loss: 4.037798\n",
      "(Iteration 6501 / 12250) loss: 4.045175\n",
      "(Iteration 6601 / 12250) loss: 3.720978\n",
      "(Epoch 27 / 50) train acc: 0.571000; val_acc: 0.513000\n",
      "(Iteration 6701 / 12250) loss: 3.891173\n",
      "(Iteration 6801 / 12250) loss: 3.816380\n",
      "(Epoch 28 / 50) train acc: 0.568000; val_acc: 0.515000\n",
      "(Iteration 6901 / 12250) loss: 3.821889\n",
      "(Iteration 7001 / 12250) loss: 3.708311\n",
      "(Iteration 7101 / 12250) loss: 3.721020\n",
      "(Epoch 29 / 50) train acc: 0.584000; val_acc: 0.517000\n",
      "(Iteration 7201 / 12250) loss: 3.609061\n",
      "(Iteration 7301 / 12250) loss: 3.547848\n",
      "(Epoch 30 / 50) train acc: 0.575000; val_acc: 0.503000\n",
      "(Iteration 7401 / 12250) loss: 3.619078\n",
      "(Iteration 7501 / 12250) loss: 3.540037\n",
      "(Epoch 31 / 50) train acc: 0.577000; val_acc: 0.522000\n",
      "(Iteration 7601 / 12250) loss: 3.455170\n",
      "(Iteration 7701 / 12250) loss: 3.466298\n",
      "(Iteration 7801 / 12250) loss: 3.410446\n",
      "(Epoch 32 / 50) train acc: 0.606000; val_acc: 0.508000\n",
      "(Iteration 7901 / 12250) loss: 3.370178\n",
      "(Iteration 8001 / 12250) loss: 3.294504\n",
      "(Epoch 33 / 50) train acc: 0.603000; val_acc: 0.519000\n",
      "(Iteration 8101 / 12250) loss: 3.308017\n",
      "(Iteration 8201 / 12250) loss: 3.160199\n",
      "(Iteration 8301 / 12250) loss: 3.240586\n",
      "(Epoch 34 / 50) train acc: 0.580000; val_acc: 0.521000\n",
      "(Iteration 8401 / 12250) loss: 3.104178\n",
      "(Iteration 8501 / 12250) loss: 3.207046\n",
      "(Epoch 35 / 50) train acc: 0.611000; val_acc: 0.512000\n",
      "(Iteration 8601 / 12250) loss: 2.974811\n",
      "(Iteration 8701 / 12250) loss: 3.146503\n",
      "(Iteration 8801 / 12250) loss: 3.085383\n",
      "(Epoch 36 / 50) train acc: 0.585000; val_acc: 0.511000\n",
      "(Iteration 8901 / 12250) loss: 3.122961\n",
      "(Iteration 9001 / 12250) loss: 3.141634\n",
      "(Epoch 37 / 50) train acc: 0.585000; val_acc: 0.520000\n",
      "(Iteration 9101 / 12250) loss: 3.064016\n",
      "(Iteration 9201 / 12250) loss: 3.027315\n",
      "(Iteration 9301 / 12250) loss: 2.883252\n",
      "(Epoch 38 / 50) train acc: 0.616000; val_acc: 0.515000\n",
      "(Iteration 9401 / 12250) loss: 3.016591\n",
      "(Iteration 9501 / 12250) loss: 2.927478\n",
      "(Epoch 39 / 50) train acc: 0.623000; val_acc: 0.520000\n",
      "(Iteration 9601 / 12250) loss: 2.827457\n",
      "(Iteration 9701 / 12250) loss: 2.933415\n",
      "(Epoch 40 / 50) train acc: 0.599000; val_acc: 0.515000\n",
      "(Iteration 9801 / 12250) loss: 2.865300\n",
      "(Iteration 9901 / 12250) loss: 2.917210\n",
      "(Iteration 10001 / 12250) loss: 2.839790\n",
      "(Epoch 41 / 50) train acc: 0.598000; val_acc: 0.517000\n",
      "(Iteration 10101 / 12250) loss: 2.964765\n",
      "(Iteration 10201 / 12250) loss: 2.842641\n",
      "(Epoch 42 / 50) train acc: 0.610000; val_acc: 0.522000\n",
      "(Iteration 10301 / 12250) loss: 2.710224\n",
      "(Iteration 10401 / 12250) loss: 2.685713\n",
      "(Iteration 10501 / 12250) loss: 2.676005\n",
      "(Epoch 43 / 50) train acc: 0.631000; val_acc: 0.535000\n",
      "(Iteration 10601 / 12250) loss: 2.725447\n",
      "(Iteration 10701 / 12250) loss: 2.730736\n",
      "(Epoch 44 / 50) train acc: 0.613000; val_acc: 0.529000\n",
      "(Iteration 10801 / 12250) loss: 2.711674\n",
      "(Iteration 10901 / 12250) loss: 2.762827\n",
      "(Iteration 11001 / 12250) loss: 2.754971\n",
      "(Epoch 45 / 50) train acc: 0.623000; val_acc: 0.528000\n",
      "(Iteration 11101 / 12250) loss: 2.743818\n",
      "(Iteration 11201 / 12250) loss: 2.655474\n",
      "(Epoch 46 / 50) train acc: 0.592000; val_acc: 0.527000\n",
      "(Iteration 11301 / 12250) loss: 2.739151\n",
      "(Iteration 11401 / 12250) loss: 2.719449\n",
      "(Iteration 11501 / 12250) loss: 2.699691\n",
      "(Epoch 47 / 50) train acc: 0.586000; val_acc: 0.523000\n",
      "(Iteration 11601 / 12250) loss: 2.690050\n",
      "(Iteration 11701 / 12250) loss: 2.663448\n",
      "(Epoch 48 / 50) train acc: 0.582000; val_acc: 0.529000\n",
      "(Iteration 11801 / 12250) loss: 2.641135\n",
      "(Iteration 11901 / 12250) loss: 2.652745\n",
      "(Iteration 12001 / 12250) loss: 2.542514\n",
      "(Epoch 49 / 50) train acc: 0.614000; val_acc: 0.532000\n",
      "(Iteration 12101 / 12250) loss: 2.598262\n",
      "(Iteration 12201 / 12250) loss: 2.632495\n",
      "(Epoch 50 / 50) train acc: 0.614000; val_acc: 0.516000\n"
     ]
    }
   ],
   "source": [
    "#set some information about the data\n",
    "D, H, C = 3*32*32, 100, 10\n",
    "std = np.sqrt(2.0/(D+C))\n",
    "model = TwoLayerNet(input_dim=D, hidden_dim=H, num_classes=C,reg=0.5,weight_scale=std)\n",
    "solver = Solver(model, data,\n",
    "                  update_rule='sgd',\n",
    "                  optim_config={\n",
    "                    'learning_rate': 8e-4,\n",
    "                  },\n",
    "                  lr_decay=0.95,\n",
    "                  num_epochs=50, batch_size=200,\n",
    "                  print_every=100)\n",
    "solver.train()\n",
    "##############################################################################\n",
    "# TODO: Use a Solver instance to train a TwoLayerNet that achieves at least  #\n",
    "# 50% accuracy on the validation set.                                        #\n",
    "##############################################################################\n",
    "\n",
    "##############################################################################\n",
    "#                             END OF YOUR CODE                               #\n",
    "##############################################################################"
   ]
  },
  {
   "cell_type": "code",
   "execution_count": 91,
   "metadata": {
    "collapsed": false
   },
   "outputs": [
    {
     "data": {
      "image/png": "[encoded data removed]",
      "text/plain": [
       "<matplotlib.figure.Figure at 0xed09f98>"
      ]
     },
     "metadata": {},
     "output_type": "display_data"
    }
   ],
   "source": [
    "# Run this cell to visualize training loss and train / val accuracy\n",
    "\n",
    "plt.subplot(2, 1, 1)\n",
    "plt.title('Training loss')\n",
    "plt.plot(solver.loss_history, 'o')\n",
    "plt.xlabel('Iteration')\n",
    "\n",
    "plt.subplot(2, 1, 2)\n",
    "plt.title('Accuracy')\n",
    "plt.plot(solver.train_acc_history, '-o', label='train')\n",
    "plt.plot(solver.val_acc_history, '-o', label='val')\n",
    "plt.plot([0.5] * len(solver.val_acc_history), 'k--')\n",
    "plt.xlabel('Epoch')\n",
    "plt.legend(loc='lower right')\n",
    "plt.gcf().set_size_inches(15, 12)\n",
    "plt.show()"
   ]
  },
  {
   "cell_type": "markdown",
   "metadata": {},
   "source": [
    "# Multilayer network\n",
    "Next you will implement a fully-connected network with an arbitrary number of hidden layers.\n",
    "\n",
    "Read through the `FullyConnectedNet` class in the file `cs231n/classifiers/fc_net.py`.\n",
    "\n",
    "Implement the initialization, the forward pass, and the backward pass. For the moment don't worry about implementing dropout or batch normalization; we will add those features soon."
   ]
  },
  {
   "cell_type": "markdown",
   "metadata": {},
   "source": [
    "## Initial loss and gradient check"
   ]
  },
  {
   "cell_type": "markdown",
   "metadata": {},
   "source": [
    "As a sanity check, run the following to check the initial loss and to gradient check the network both with and without regularization. Do the initial losses seem reasonable?\n",
    "\n",
    "For gradient checking, you should expect to see errors around 1e-6 or less."
   ]
  },
  {
   "cell_type": "code",
   "execution_count": 35,
   "metadata": {
    "collapsed": false
   },
   "outputs": [
    {
     "name": "stdout",
     "output_type": "stream",
     "text": [
      "Running check with reg =  0\n",
      "Initial loss:  2.29995396784\n",
      "W1 relative error: 8.78e-07\n",
      "W2 relative error: 8.30e-07\n",
      "W3 relative error: 9.45e-08\n",
      "b1 relative error: 1.18e-07\n",
      "b2 relative error: 3.01e-09\n",
      "b3 relative error: 1.32e-10\n",
      "Running check with reg =  3.14\n",
      "Initial loss:  7.18720558188\n",
      "W1 relative error: 4.72e-08\n",
      "W2 relative error: 1.67e-07\n",
      "W3 relative error: 1.50e-08\n",
      "b1 relative error: 4.24e-08\n",
      "b2 relative error: 8.82e-07\n",
      "b3 relative error: 2.03e-10\n"
     ]
    }
   ],
   "source": [
    "N, D, H1, H2, C = 2, 15, 20, 30, 10\n",
    "X = np.random.randn(N, D)\n",
    "y = np.random.randint(C, size=(N,))\n",
    "\n",
    "for reg in [0, 3.14]:\n",
    "  print 'Running check with reg = ', reg\n",
    "  model = FullyConnectedNet([H1, H2], input_dim=D, num_classes=C,\n",
    "                            reg=reg, weight_scale=5e-2, dtype=np.float64)\n",
    "\n",
    "  loss, grads = model.loss(X, y)\n",
    "  print 'Initial loss: ', loss\n",
    "\n",
    "  for name in sorted(grads):\n",
    "    f = lambda _: model.loss(X, y)[0]\n",
    "    grad_num = eval_numerical_gradient(f, model.params[name], verbose=False, h=1e-5)\n",
    "    print '%s relative error: %.2e' % (name, rel_error(grad_num, grads[name]))"
   ]
  },
  {
   "cell_type": "markdown",
   "metadata": {},
   "source": [
    "As another sanity check, make sure you can overfit a small dataset of 50 images. First we will try a three-layer network with 100 units in each hidden layer. You will need to tweak the learning rate and initialization scale, but you should be able to overfit and achieve 100% training accuracy within 20 epochs."
   ]
  },
  {
   "cell_type": "code",
   "execution_count": 47,
   "metadata": {
    "collapsed": false,
    "scrolled": false
   },
   "outputs": [
    {
     "name": "stdout",
     "output_type": "stream",
     "text": [
      "(Iteration 1 / 40) loss: 165.342337\n",
      "(Epoch 0 / 20) train acc: 0.100000; val_acc: 0.153000\n",
      "(Epoch 1 / 20) train acc: 0.200000; val_acc: 0.137000\n",
      "(Epoch 2 / 20) train acc: 0.260000; val_acc: 0.128000\n",
      "(Epoch 3 / 20) train acc: 0.240000; val_acc: 0.130000\n",
      "(Epoch 4 / 20) train acc: 0.400000; val_acc: 0.120000\n",
      "(Epoch 5 / 20) train acc: 0.420000; val_acc: 0.117000\n",
      "(Iteration 11 / 40) loss: 20.538954\n",
      "(Epoch 6 / 20) train acc: 0.500000; val_acc: 0.116000\n",
      "(Epoch 7 / 20) train acc: 0.560000; val_acc: 0.116000\n",
      "(Epoch 8 / 20) train acc: 0.660000; val_acc: 0.128000\n",
      "(Epoch 9 / 20) train acc: 0.680000; val_acc: 0.124000\n",
      "(Epoch 10 / 20) train acc: 0.680000; val_acc: 0.118000\n",
      "(Iteration 21 / 40) loss: 3.344274\n",
      "(Epoch 11 / 20) train acc: 0.760000; val_acc: 0.126000\n",
      "(Epoch 12 / 20) train acc: 0.780000; val_acc: 0.126000\n",
      "(Epoch 13 / 20) train acc: 0.820000; val_acc: 0.115000\n",
      "(Epoch 14 / 20) train acc: 0.900000; val_acc: 0.122000\n",
      "(Epoch 15 / 20) train acc: 0.920000; val_acc: 0.125000\n",
      "(Iteration 31 / 40) loss: 1.168530\n",
      "(Epoch 16 / 20) train acc: 0.960000; val_acc: 0.123000\n",
      "(Epoch 17 / 20) train acc: 0.960000; val_acc: 0.121000\n",
      "(Epoch 18 / 20) train acc: 1.000000; val_acc: 0.120000\n",
      "(Epoch 19 / 20) train acc: 1.000000; val_acc: 0.120000\n",
      "(Epoch 20 / 20) train acc: 1.000000; val_acc: 0.120000\n"
     ]
    },
    {
     "data": {
      "image/png": "[encoded data removed]",
      "text/plain": [
       "<matplotlib.figure.Figure at 0x122144e0>"
      ]
     },
     "metadata": {},
     "output_type": "display_data"
    }
   ],
   "source": [
    "# TODO: Use a three-layer Net to overfit 50 training examples.\n",
    "\n",
    "num_train = 50\n",
    "small_data = {\n",
    "  'X_train': data['X_train'][:num_train],\n",
    "  'y_train': data['y_train'][:num_train],\n",
    "  'X_val': data['X_val'],\n",
    "  'y_val': data['y_val'],\n",
    "}\n",
    "\n",
    "weight_scale = np.sqrt(2.0/300)\n",
    "learning_rate = 9e-5\n",
    "model = FullyConnectedNet([100, 100],\n",
    "              weight_scale=weight_scale, dtype=np.float64)\n",
    "solver = Solver(model, small_data,\n",
    "                print_every=10, num_epochs=20, batch_size=25,\n",
    "                update_rule='sgd',\n",
    "                optim_config={\n",
    "                  'learning_rate': learning_rate,\n",
    "                }\n",
    "         )\n",
    "solver.train()\n",
    "\n",
    "plt.plot(solver.loss_history, 'o')\n",
    "plt.title('Training loss history')\n",
    "plt.xlabel('Iteration')\n",
    "plt.ylabel('Training loss')\n",
    "plt.show()"
   ]
  },
  {
   "cell_type": "markdown",
   "metadata": {},
   "source": [
    "Now try to use a five-layer network with 100 units on each layer to overfit 50 training examples. Again you will have to adjust the learning rate and weight initialization, but you should be able to achieve 100% training accuracy within 20 epochs."
   ]
  },
  {
   "cell_type": "code",
   "execution_count": 49,
   "metadata": {
    "collapsed": false
   },
   "outputs": [
    {
     "name": "stdout",
     "output_type": "stream",
     "text": [
      "(Iteration 1 / 40) loss: 11.191991\n",
      "(Epoch 0 / 20) train acc: 0.200000; val_acc: 0.080000\n",
      "(Epoch 1 / 20) train acc: 0.220000; val_acc: 0.078000\n",
      "(Epoch 2 / 20) train acc: 0.260000; val_acc: 0.098000\n",
      "(Epoch 3 / 20) train acc: 0.500000; val_acc: 0.130000\n",
      "(Epoch 4 / 20) train acc: 0.700000; val_acc: 0.131000\n",
      "(Epoch 5 / 20) train acc: 0.740000; val_acc: 0.126000\n",
      "(Iteration 11 / 40) loss: 1.361711\n",
      "(Epoch 6 / 20) train acc: 0.860000; val_acc: 0.132000\n",
      "(Epoch 7 / 20) train acc: 0.880000; val_acc: 0.133000\n",
      "(Epoch 8 / 20) train acc: 0.940000; val_acc: 0.125000\n",
      "(Epoch 9 / 20) train acc: 0.960000; val_acc: 0.134000\n",
      "(Epoch 10 / 20) train acc: 0.980000; val_acc: 0.133000\n",
      "(Iteration 21 / 40) loss: 0.229134\n",
      "(Epoch 11 / 20) train acc: 0.960000; val_acc: 0.138000\n",
      "(Epoch 12 / 20) train acc: 1.000000; val_acc: 0.135000\n",
      "(Epoch 13 / 20) train acc: 1.000000; val_acc: 0.132000\n",
      "(Epoch 14 / 20) train acc: 1.000000; val_acc: 0.138000\n",
      "(Epoch 15 / 20) train acc: 1.000000; val_acc: 0.141000\n",
      "(Iteration 31 / 40) loss: 0.081493\n",
      "(Epoch 16 / 20) train acc: 1.000000; val_acc: 0.138000\n",
      "(Epoch 17 / 20) train acc: 1.000000; val_acc: 0.141000\n",
      "(Epoch 18 / 20) train acc: 1.000000; val_acc: 0.140000\n",
      "(Epoch 19 / 20) train acc: 1.000000; val_acc: 0.140000\n",
      "(Epoch 20 / 20) train acc: 1.000000; val_acc: 0.141000\n"
     ]
    },
    {
     "data": {
      "image/png": "[encoded data removed]",
      "text/plain": [
       "<matplotlib.figure.Figure at 0x123c9160>"
      ]
     },
     "metadata": {},
     "output_type": "display_data"
    }
   ],
   "source": [
    "# TODO: Use a five-layer Net to overfit 50 training examples.\n",
    "\n",
    "num_train = 50\n",
    "small_data = {\n",
    "  'X_train': data['X_train'][:num_train],\n",
    "  'y_train': data['y_train'][:num_train],\n",
    "  'X_val': data['X_val'],\n",
    "  'y_val': data['y_val'],\n",
    "}\n",
    "\n",
    "learning_rate = 1e-3\n",
    "weight_scale = np.sqrt(2.0/500)\n",
    "model = FullyConnectedNet([100, 100, 100, 100],\n",
    "                weight_scale=weight_scale, dtype=np.float64)\n",
    "solver = Solver(model, small_data,\n",
    "                print_every=10, num_epochs=20, batch_size=25,\n",
    "                update_rule='sgd',\n",
    "                optim_config={\n",
    "                  'learning_rate': learning_rate,\n",
    "                }\n",
    "         )\n",
    "solver.train()\n",
    "\n",
    "plt.plot(solver.loss_history, 'o')\n",
    "plt.title('Training loss history')\n",
    "plt.xlabel('Iteration')\n",
    "plt.ylabel('Training loss')\n",
    "plt.show()"
   ]
  },
  {
   "cell_type": "markdown",
   "metadata": {},
   "source": [
    "# Inline question: \n",
    "Did you notice anything about the comparative difficulty of training the three-layer net vs training the five layer net?\n",
    "\n",
    "# Answer:\n",
    "[FILL THIS IN]\n"
   ]
  },
  {
   "cell_type": "markdown",
   "metadata": {},
   "source": [
    "# Update rules\n",
    "So far we have used vanilla stochastic gradient descent (SGD) as our update rule. More sophisticated update rules can make it easier to train deep networks. We will implement a few of the most commonly used update rules and compare them to vanilla SGD."
   ]
  },
  {
   "cell_type": "markdown",
   "metadata": {},
   "source": [
    "# SGD+Momentum\n",
    "Stochastic gradient descent with momentum is a widely used update rule that tends to make deep networks converge faster than vanilla stochstic gradient descent.\n",
    "\n",
    "Open the file `cs231n/optim.py` and read the documentation at the top of the file to make sure you understand the API. Implement the SGD+momentum update rule in the function `sgd_momentum` and run the following to check your implementation. You should see errors less than 1e-8."
   ]
  },
  {
   "cell_type": "code",
   "execution_count": null,
   "metadata": {
    "collapsed": false
   },
   "outputs": [],
   "source": [
    "from cs231n.optim import sgd_momentum\n",
    "\n",
    "N, D = 4, 5\n",
    "w = np.linspace(-0.4, 0.6, num=N*D).reshape(N, D)\n",
    "dw = np.linspace(-0.6, 0.4, num=N*D).reshape(N, D)\n",
    "v = np.linspace(0.6, 0.9, num=N*D).reshape(N, D)\n",
    "\n",
    "config = {'learning_rate': 1e-3, 'velocity': v}\n",
    "next_w, _ = sgd_momentum(w, dw, config=config)\n",
    "\n",
    "expected_next_w = np.asarray([\n",
    "  [ 0.1406,      0.20738947,  0.27417895,  0.34096842,  0.40775789],\n",
    "  [ 0.47454737,  0.54133684,  0.60812632,  0.67491579,  0.74170526],\n",
    "  [ 0.80849474,  0.87528421,  0.94207368,  1.00886316,  1.07565263],\n",
    "  [ 1.14244211,  1.20923158,  1.27602105,  1.34281053,  1.4096    ]])\n",
    "expected_velocity = np.asarray([\n",
    "  [ 0.5406,      0.55475789,  0.56891579, 0.58307368,  0.59723158],\n",
    "  [ 0.61138947,  0.62554737,  0.63970526,  0.65386316,  0.66802105],\n",
    "  [ 0.68217895,  0.69633684,  0.71049474,  0.72465263,  0.73881053],\n",
    "  [ 0.75296842,  0.76712632,  0.78128421,  0.79544211,  0.8096    ]])\n",
    "\n",
    "print 'next_w error: ', rel_error(next_w, expected_next_w)\n",
    "print 'velocity error: ', rel_error(expected_velocity, config['velocity'])"
   ]
  },
  {
   "cell_type": "markdown",
   "metadata": {},
   "source": [
    "Once you have done so, run the following to train a six-layer network with both SGD and SGD+momentum. You should see the SGD+momentum update rule converge faster."
   ]
  },
  {
   "cell_type": "code",
   "execution_count": null,
   "metadata": {
    "collapsed": false,
    "scrolled": false
   },
   "outputs": [],
   "source": [
    "num_train = 4000\n",
    "small_data = {\n",
    "  'X_train': data['X_train'][:num_train],\n",
    "  'y_train': data['y_train'][:num_train],\n",
    "  'X_val': data['X_val'],\n",
    "  'y_val': data['y_val'],\n",
    "}\n",
    "\n",
    "solvers = {}\n",
    "\n",
    "for update_rule in ['sgd', 'sgd_momentum']:\n",
    "  print 'running with ', update_rule\n",
    "  model = FullyConnectedNet([100, 100, 100, 100, 100], weight_scale=5e-2)\n",
    "\n",
    "  solver = Solver(model, small_data,\n",
    "                  num_epochs=5, batch_size=100,\n",
    "                  update_rule=update_rule,\n",
    "                  optim_config={\n",
    "                    'learning_rate': 1e-2,\n",
    "                  },\n",
    "                  verbose=True)\n",
    "  solvers[update_rule] = solver\n",
    "  solver.train()\n",
    "  print\n",
    "\n",
    "plt.subplot(3, 1, 1)\n",
    "plt.title('Training loss')\n",
    "plt.xlabel('Iteration')\n",
    "\n",
    "plt.subplot(3, 1, 2)\n",
    "plt.title('Training accuracy')\n",
    "plt.xlabel('Epoch')\n",
    "\n",
    "plt.subplot(3, 1, 3)\n",
    "plt.title('Validation accuracy')\n",
    "plt.xlabel('Epoch')\n",
    "\n",
    "for update_rule, solver in solvers.iteritems():\n",
    "  plt.subplot(3, 1, 1)\n",
    "  plt.plot(solver.loss_history, 'o', label=update_rule)\n",
    "  \n",
    "  plt.subplot(3, 1, 2)\n",
    "  plt.plot(solver.train_acc_history, '-o', label=update_rule)\n",
    "\n",
    "  plt.subplot(3, 1, 3)\n",
    "  plt.plot(solver.val_acc_history, '-o', label=update_rule)\n",
    "  \n",
    "for i in [1, 2, 3]:\n",
    "  plt.subplot(3, 1, i)\n",
    "  plt.legend(loc='upper center', ncol=4)\n",
    "plt.gcf().set_size_inches(15, 15)\n",
    "plt.show()"
   ]
  },
  {
   "cell_type": "markdown",
   "metadata": {},
   "source": [
    "# RMSProp and Adam\n",
    "RMSProp [1] and Adam [2] are update rules that set per-parameter learning rates by using a running average of the second moments of gradients.\n",
    "\n",
    "In the file `cs231n/optim.py`, implement the RMSProp update rule in the `rmsprop` function and implement the Adam update rule in the `adam` function, and check your implementations using the tests below.\n",
    "\n",
    "[1] Tijmen Tieleman and Geoffrey Hinton. \"Lecture 6.5-rmsprop: Divide the gradient by a running average of its recent magnitude.\" COURSERA: Neural Networks for Machine Learning 4 (2012).\n",
    "\n",
    "[2] Diederik Kingma and Jimmy Ba, \"Adam: A Method for Stochastic Optimization\", ICLR 2015."
   ]
  },
  {
   "cell_type": "code",
   "execution_count": null,
   "metadata": {
    "collapsed": false
   },
   "outputs": [],
   "source": [
    "# Test RMSProp implementation; you should see errors less than 1e-7\n",
    "from cs231n.optim import rmsprop\n",
    "\n",
    "N, D = 4, 5\n",
    "w = np.linspace(-0.4, 0.6, num=N*D).reshape(N, D)\n",
    "dw = np.linspace(-0.6, 0.4, num=N*D).reshape(N, D)\n",
    "cache = np.linspace(0.6, 0.9, num=N*D).reshape(N, D)\n",
    "\n",
    "config = {'learning_rate': 1e-2, 'cache': cache}\n",
    "next_w, _ = rmsprop(w, dw, config=config)\n",
    "\n",
    "expected_next_w = np.asarray([\n",
    "  [-0.39223849, -0.34037513, -0.28849239, -0.23659121, -0.18467247],\n",
    "  [-0.132737,   -0.08078555, -0.02881884,  0.02316247,  0.07515774],\n",
    "  [ 0.12716641,  0.17918792,  0.23122175,  0.28326742,  0.33532447],\n",
    "  [ 0.38739248,  0.43947102,  0.49155973,  0.54365823,  0.59576619]])\n",
    "expected_cache = np.asarray([\n",
    "  [ 0.5976,      0.6126277,   0.6277108,   0.64284931,  0.65804321],\n",
    "  [ 0.67329252,  0.68859723,  0.70395734,  0.71937285,  0.73484377],\n",
    "  [ 0.75037008,  0.7659518,   0.78158892,  0.79728144,  0.81302936],\n",
    "  [ 0.82883269,  0.84469141,  0.86060554,  0.87657507,  0.8926    ]])\n",
    "\n",
    "print 'next_w error: ', rel_error(expected_next_w, next_w)\n",
    "print 'cache error: ', rel_error(expected_cache, config['cache'])"
   ]
  },
  {
   "cell_type": "code",
   "execution_count": null,
   "metadata": {
    "collapsed": false
   },
   "outputs": [],
   "source": [
    "# Test Adam implementation; you should see errors around 1e-7 or less\n",
    "from cs231n.optim import adam\n",
    "\n",
    "N, D = 4, 5\n",
    "w = np.linspace(-0.4, 0.6, num=N*D).reshape(N, D)\n",
    "dw = np.linspace(-0.6, 0.4, num=N*D).reshape(N, D)\n",
    "m = np.linspace(0.6, 0.9, num=N*D).reshape(N, D)\n",
    "v = np.linspace(0.7, 0.5, num=N*D).reshape(N, D)\n",
    "\n",
    "config = {'learning_rate': 1e-2, 'm': m, 'v': v, 't': 5}\n",
    "next_w, _ = adam(w, dw, config=config)\n",
    "\n",
    "expected_next_w = np.asarray([\n",
    "  [-0.40094747, -0.34836187, -0.29577703, -0.24319299, -0.19060977],\n",
    "  [-0.1380274,  -0.08544591, -0.03286534,  0.01971428,  0.0722929],\n",
    "  [ 0.1248705,   0.17744702,  0.23002243,  0.28259667,  0.33516969],\n",
    "  [ 0.38774145,  0.44031188,  0.49288093,  0.54544852,  0.59801459]])\n",
    "expected_v = np.asarray([\n",
    "  [ 0.69966,     0.68908382,  0.67851319,  0.66794809,  0.65738853,],\n",
    "  [ 0.64683452,  0.63628604,  0.6257431,   0.61520571,  0.60467385,],\n",
    "  [ 0.59414753,  0.58362676,  0.57311152,  0.56260183,  0.55209767,],\n",
    "  [ 0.54159906,  0.53110598,  0.52061845,  0.51013645,  0.49966,   ]])\n",
    "expected_m = np.asarray([\n",
    "  [ 0.48,        0.49947368,  0.51894737,  0.53842105,  0.55789474],\n",
    "  [ 0.57736842,  0.59684211,  0.61631579,  0.63578947,  0.65526316],\n",
    "  [ 0.67473684,  0.69421053,  0.71368421,  0.73315789,  0.75263158],\n",
    "  [ 0.77210526,  0.79157895,  0.81105263,  0.83052632,  0.85      ]])\n",
    "\n",
    "print 'next_w error: ', rel_error(expected_next_w, next_w)\n",
    "print 'v error: ', rel_error(expected_v, config['v'])\n",
    "print 'm error: ', rel_error(expected_m, config['m'])"
   ]
  },
  {
   "cell_type": "markdown",
   "metadata": {},
   "source": [
    "Once you have debugged your RMSProp and Adam implementations, run the following to train a pair of deep networks using these new update rules:"
   ]
  },
  {
   "cell_type": "code",
   "execution_count": null,
   "metadata": {
    "collapsed": false
   },
   "outputs": [],
   "source": [
    "learning_rates = {'rmsprop': 1e-4, 'adam': 1e-3}\n",
    "for update_rule in ['adam', 'rmsprop']:\n",
    "  print 'running with ', update_rule\n",
    "  model = FullyConnectedNet([100, 100, 100, 100, 100], weight_scale=5e-2)\n",
    "\n",
    "  solver = Solver(model, small_data,\n",
    "                  num_epochs=5, batch_size=100,\n",
    "                  update_rule=update_rule,\n",
    "                  optim_config={\n",
    "                    'learning_rate': learning_rates[update_rule]\n",
    "                  },\n",
    "                  verbose=True)\n",
    "  solvers[update_rule] = solver\n",
    "  solver.train()\n",
    "  print\n",
    "\n",
    "plt.subplot(3, 1, 1)\n",
    "plt.title('Training loss')\n",
    "plt.xlabel('Iteration')\n",
    "\n",
    "plt.subplot(3, 1, 2)\n",
    "plt.title('Training accuracy')\n",
    "plt.xlabel('Epoch')\n",
    "\n",
    "plt.subplot(3, 1, 3)\n",
    "plt.title('Validation accuracy')\n",
    "plt.xlabel('Epoch')\n",
    "\n",
    "for update_rule, solver in solvers.iteritems():\n",
    "  plt.subplot(3, 1, 1)\n",
    "  plt.plot(solver.loss_history, 'o', label=update_rule)\n",
    "  \n",
    "  plt.subplot(3, 1, 2)\n",
    "  plt.plot(solver.train_acc_history, '-o', label=update_rule)\n",
    "\n",
    "  plt.subplot(3, 1, 3)\n",
    "  plt.plot(solver.val_acc_history, '-o', label=update_rule)\n",
    "  \n",
    "for i in [1, 2, 3]:\n",
    "  plt.subplot(3, 1, i)\n",
    "  plt.legend(loc='upper center', ncol=4)\n",
    "plt.gcf().set_size_inches(15, 15)\n",
    "plt.show()"
   ]
  },
  {
   "cell_type": "markdown",
   "metadata": {},
   "source": [
    "# Train a good model!\n",
    "Train the best fully-connected model that you can on CIFAR-10, storing your best model in the `best_model` variable. We require you to get at least 50% accuracy on the validation set using a fully-connected net.\n",
    "\n",
    "If you are careful it should be possible to get accuracies above 55%, but we don't require it for this part and won't assign extra credit for doing so. Later in the assignment we will ask you to train the best convolutional network that you can on CIFAR-10, and we would prefer that you spend your effort working on convolutional nets rather than fully-connected nets.\n",
    "\n",
    "You might find it useful to complete the `BatchNormalization.ipynb` and `Dropout.ipynb` notebooks before completing this part, since those techniques can help you train powerful models."
   ]
  },
  {
   "cell_type": "code",
   "execution_count": null,
   "metadata": {
    "collapsed": false,
    "scrolled": false
   },
   "outputs": [],
   "source": [
    "best_model = None\n",
    "################################################################################\n",
    "# TODO: Train the best FullyConnectedNet that you can on CIFAR-10. You might   #\n",
    "# batch normalization and dropout useful. Store your best model in the         #\n",
    "# best_model variable.                                                         #\n",
    "################################################################################\n",
    "pass\n",
    "################################################################################\n",
    "#                              END OF YOUR CODE                                #\n",
    "################################################################################"
   ]
  },
  {
   "cell_type": "markdown",
   "metadata": {},
   "source": [
    "# Test you model\n",
    "Run your best model on the validation and test sets. You should achieve above 50% accuracy on the validation set."
   ]
  },
  {
   "cell_type": "code",
   "execution_count": null,
   "metadata": {
    "collapsed": false
   },
   "outputs": [],
   "source": [
    "y_test_pred = np.argmax(best_model.loss(X_test), axis=1)\n",
    "y_val_pred = np.argmax(best_model.loss(X_val), axis=1)\n",
    "print 'Validation set accuracy: ', (y_val_pred == y_val).mean()\n",
    "print 'Test set accuracy: ', (y_test_pred == y_test).mean()"
   ]
  }
 ],
 "metadata": {
  "kernelspec": {
   "display_name": "Python 2",
   "language": "python",
   "name": "python2"
  },
  "language_info": {
   "codemirror_mode": {
    "name": "ipython",
    "version": 2
   },
   "file_extension": ".py",
   "mimetype": "text/x-python",
   "name": "python",
   "nbconvert_exporter": "python",
   "pygments_lexer": "ipython2",
   "version": "2.7.13"
  }
 },
 "nbformat": 4,
 "nbformat_minor": 0
}
